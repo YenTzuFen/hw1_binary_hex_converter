{
  "nbformat": 4,
  "nbformat_minor": 0,
  "metadata": {
    "colab": {
      "provenance": []
    },
    "kernelspec": {
      "name": "python3",
      "display_name": "Python 3"
    },
    "language_info": {
      "name": "python"
    }
  },
  "cells": [
    {
      "cell_type": "code",
      "execution_count": 5,
      "metadata": {
        "colab": {
          "base_uri": "https://localhost:8080/"
        },
        "id": "QEuZLjYE8tLn",
        "outputId": "3d1149c6-c7a9-4a60-e744-f15b5690c487"
      },
      "outputs": [
        {
          "output_type": "stream",
          "name": "stdout",
          "text": [
            "請輸入一個0到255之間的十進位數字: 233\n",
            "十進位數字 233 的二進位表示是: 11101001\n",
            "十進位數字 233 的十六進位表示是: E9\n"
          ]
        }
      ],
      "source": [
        "# hw1_binary_hex_converter\n",
        "# 函數：十進位數字轉換為二進位\n",
        "def decimal_to_binary(n):\n",
        "    if n == 0:\n",
        "        return \"0\"\n",
        "    binary = []\n",
        "    while n > 0:\n",
        "        binary.append(str(n % 2))\n",
        "        n = n // 2\n",
        "    return ''.join(binary[::-1])  # 倒轉回來組合\n",
        "\n",
        "# 函數：十進位數字轉換為十六進位\n",
        "def decimal_to_hexadecimal(n):\n",
        "    hex_map = ['0', '1', '2', '3', '4', '5', '6', '7', '8', '9', 'A', 'B', 'C', 'D', 'E', 'F']\n",
        "    if n == 0:\n",
        "        return \"0\"\n",
        "    hexadecimal = []\n",
        "    while n > 0:\n",
        "        hexadecimal.append(hex_map[n % 16])\n",
        "        n = n // 16\n",
        "    return ''.join(hexadecimal[::-1])  # 倒轉回來組合\n",
        "\n",
        "# 主程式：處理輸入和輸出\n",
        "def main():\n",
        "    try:\n",
        "        # 讓使用者輸入一個十進位數字\n",
        "        number = int(input(\"請輸入一個0到255之間的十進位數字: \"))\n",
        "\n",
        "        # 確保數字在合法範圍內\n",
        "        if number < 0 or number > 255:\n",
        "            print(\"請輸入0到255之間的數字\")\n",
        "            return\n",
        "\n",
        "        # 將數字轉換為二進位和十六進位\n",
        "        binary = decimal_to_binary(number)\n",
        "        hexadecimal = decimal_to_hexadecimal(number)\n",
        "\n",
        "        # 輸出結果\n",
        "        print(f\"十進位數字 {number} 的二進位表示是: {binary}\")\n",
        "        print(f\"十進位數字 {number} 的十六進位表示是: {hexadecimal}\")\n",
        "    except ValueError:\n",
        "        print(\"請輸入有效的整數\")\n",
        "\n",
        "# 執行主程式\n",
        "if __name__ == \"__main__\":\n",
        "    main()\n"
      ]
    }
  ]
}